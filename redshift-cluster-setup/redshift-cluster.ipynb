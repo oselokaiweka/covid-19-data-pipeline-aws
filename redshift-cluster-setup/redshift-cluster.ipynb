{
 "cells": [
  {
   "cell_type": "code",
   "execution_count": null,
   "metadata": {},
   "outputs": [],
   "source": [
    "import boto3\n",
    "import pandas as pd\n",
    "import psycopg2\n",
    "import json"
   ]
  },
  {
   "cell_type": "code",
   "execution_count": null,
   "metadata": {},
   "outputs": [],
   "source": [
    "import configparser\n",
    "config = configparser.ConfigParser()\n",
    "config.read_file(open('redshift-cluster.config'))"
   ]
  },
  {
   "cell_type": "code",
   "execution_count": null,
   "metadata": {},
   "outputs": [],
   "source": [
    "KEY = config.get('AWS', 'KEY')\n",
    "SECRET = config.get('AWS', 'SECRET')\n",
    "\n",
    "\n",
    "DWH_CLUSTER_TYPE = config.get('DWH', 'DWH_CLUSTER_TYPE')\n",
    "DWH_NUM_NODES = config.get('DWH', 'DWH_NUM_NODES')\n",
    "DWH_NODE_TYPE = config.get('DWH', 'DWH_NODE_TYPE')\n",
    "DWH_CLUSTER_IDENTIFIER = config.get('DWH', 'DWH_CLUSTER_IDENTIFIER')\n",
    "DWH_DB = config.get('DWH', 'DWH_DB')\n",
    "DWH_DB_USER = config.get('DWH', 'DWH_DB_USER')\n",
    "DWH_DB_PASSWORD = config.get('DWH', 'DWH_DB_PASSWORD')\n",
    "DWH_PORT = config.get('DWH', 'DWH_PORT')\n",
    "DWH_IAM_ROLE_NAME = config.get('DWH', 'DWH_IAM_ROLE_NAME')\n",
    "\n",
    "(DWH_DB_USER, DWH_DB_PASSWORD, DWH_DB)"
   ]
  },
  {
   "cell_type": "code",
   "execution_count": null,
   "metadata": {},
   "outputs": [],
   "source": [
    "pd.DataFrame(\n",
    "    {\n",
    "        'Param':\n",
    "            [\n",
    "                'DWH_CLUSTER_TYPE',\n",
    "                'DWH_NUM_NODES',\n",
    "                'DWH_NODE_TYPE',\n",
    "                'DWH_CLUSTER_IDENTIFIER',\n",
    "                'DWH_DB',\n",
    "                'DWH_DB_USER',\n",
    "                'DWH_DB_PASSWORD',\n",
    "                'DWH_PORT',\n",
    "                'DWH_IAM_ROLE_NAME'\n",
    "            ],\n",
    "        'Value':\n",
    "            [\n",
    "                DWH_CLUSTER_TYPE,\n",
    "                DWH_NUM_NODES,\n",
    "                DWH_NODE_TYPE,\n",
    "                DWH_CLUSTER_IDENTIFIER,\n",
    "                DWH_DB,\n",
    "                DWH_DB_USER,\n",
    "                DWH_DB_PASSWORD,\n",
    "                DWH_PORT,\n",
    "                DWH_IAM_ROLE_NAME\n",
    "\n",
    "            ]\n",
    "    }\n",
    ")"
   ]
  },
  {
   "cell_type": "code",
   "execution_count": null,
   "metadata": {},
   "outputs": [],
   "source": [
    "ec2 = boto3.resource(\n",
    "                    'ec2',\n",
    "                    region_name='us-east-1',\n",
    "                    aws_access_key_id=KEY,\n",
    "                    aws_secret_access_key=SECRET\n",
    ")"
   ]
  },
  {
   "cell_type": "code",
   "execution_count": null,
   "metadata": {},
   "outputs": [],
   "source": [
    "s3 = boto3.resource(\n",
    "                    's3',\n",
    "                    region_name='us-east-1',\n",
    "                    aws_access_key_id=KEY,\n",
    "                    aws_secret_access_key=SECRET\n",
    ")"
   ]
  },
  {
   "cell_type": "code",
   "execution_count": null,
   "metadata": {},
   "outputs": [],
   "source": [
    "iam = boto3.client(\n",
    "                    'iam',\n",
    "                    region_name='us-east-1',\n",
    "                    aws_access_key_id=KEY,\n",
    "                    aws_secret_access_key=SECRET\n",
    "                    )"
   ]
  },
  {
   "cell_type": "code",
   "execution_count": null,
   "metadata": {},
   "outputs": [],
   "source": [
    "redshift = boto3.client(\n",
    "                    'redshift',\n",
    "                    region_name='us-east-1',\n",
    "                    aws_access_key_id=KEY,\n",
    "                    aws_secret_access_key=SECRET\n",
    "                    )"
   ]
  },
  {
   "cell_type": "code",
   "execution_count": null,
   "metadata": {},
   "outputs": [],
   "source": [
    "bucket=s3.Bucket('redshift-tutorial-s3')\n",
    "data_files = [filename.key for filename in bucket.objects.filter(Prefix='')]\n",
    "data_files"
   ]
  },
  {
   "cell_type": "code",
   "execution_count": null,
   "metadata": {},
   "outputs": [],
   "source": [
    "roleArn = iam.get_role(RoleName=DWH_IAM_ROLE_NAME)['Role']['Arn']\n",
    "roleArn"
   ]
  },
  {
   "cell_type": "code",
   "execution_count": null,
   "metadata": {},
   "outputs": [],
   "source": [
    "try:\n",
    "    response = redshift.create_cluster(\n",
    "        # see doc: https://boto3.amazonaws.com/v1/documentation/api/latest/reference/services/redshift/client/create_cluster.html\n",
    "        ClusterType=DWH_CLUSTER_TYPE,\n",
    "        NodeType=DWH_NODE_TYPE,\n",
    "\n",
    "        # Identifiers & Credentials\n",
    "        DBName=DWH_DB,\n",
    "        ClusterIdentifier=DWH_CLUSTER_IDENTIFIER,\n",
    "        MasterUsername=DWH_DB_USER,\n",
    "        MasterUserPassword=DWH_DB_PASSWORD,\n",
    "        Port=int(DWH_PORT),\n",
    "        NumberOfNodes=int(DWH_NUM_NODES),\n",
    "        Tags=[\n",
    "            {'Key': 'ENVIRONMENT','Value': 'TUTORIAL'},\n",
    "        ],\n",
    "\n",
    "        # Roles (s3 access role)\n",
    "        IamRoles=[roleArn],\n",
    "\n",
    "        # Other settings\n",
    "        MultiAZ=False,\n",
    "    )\n",
    "except Exception as e:\n",
    "    print(e)"
   ]
  },
  {
   "cell_type": "code",
   "execution_count": null,
   "metadata": {},
   "outputs": [],
   "source": [
    "redshift.describe_clusters(ClusterIdentifier=DWH_CLUSTER_IDENTIFIER)['Clusters'][0]"
   ]
  },
  {
   "cell_type": "code",
   "execution_count": null,
   "metadata": {},
   "outputs": [],
   "source": [
    "def prettyRedshiftProps(props):\n",
    "    pd.set_option('display.max.colwidth', 0)\n",
    "    keysToShow = ['ClusterIdentifier', 'ClusterStatus', 'NodeType', 'NumberOfNodes', 'DBName', 'MasterUsername', 'Endpoint', 'VpcId']\n",
    "    x = [(k, v) for k, v in props.items() if k in keysToShow]\n",
    "    return pd.DataFrame(data=x, columns=['Parameter', 'value'])\n",
    "\n",
    "clusterProps = redshift.describe_clusters(ClusterIdentifier=DWH_CLUSTER_IDENTIFIER)['Clusters'][0]\n",
    "\n",
    "prettyRedshiftProps(clusterProps)"
   ]
  },
  {
   "cell_type": "code",
   "execution_count": null,
   "metadata": {},
   "outputs": [],
   "source": [
    "DWH_ENDPOINT = clusterProps['Endpoint']['Address']\n",
    "DWH_ROLE_ARN = clusterProps['IamRoles'][0]['IamRoleArn']\n",
    "DB_NAME = clusterProps['DBName']\n",
    "DB_USER = clusterProps['MasterUsername']"
   ]
  },
  {
   "cell_type": "code",
   "execution_count": null,
   "metadata": {},
   "outputs": [],
   "source": [
    "DB_NAME"
   ]
  },
  {
   "cell_type": "code",
   "execution_count": null,
   "metadata": {},
   "outputs": [],
   "source": [
    "try:\n",
    "    vpc = ec2.Vpc(id=clusterProps['VpcId'])\n",
    "    default_SG = list(vpc.security_groups.all())[0]\n",
    "    print(default_SG)\n",
    "\n",
    "    default_SG.authorize_ingress(\n",
    "        GroupName=default_SG.group_name,\n",
    "        CidrIp='0.0.0.0/0',\n",
    "        IpProtocol='TCP',\n",
    "        FromPort=int(DWH_PORT),\n",
    "        ToPort=int(DWH_PORT),\n",
    "    )\n",
    "except Exception as e:\n",
    "    print(e)"
   ]
  },
  {
   "cell_type": "code",
   "execution_count": null,
   "metadata": {},
   "outputs": [],
   "source": [
    "try:\n",
    "    conn = psycopg2.connect(\n",
    "        host=DWH_ENDPOINT,\n",
    "        dbname=DB_NAME,\n",
    "        user=DB_USER,\n",
    "        password=DWH_DB_PASSWORD,\n",
    "        port=int(DWH_PORT)\n",
    "    )\n",
    "except Exception as e:\n",
    "    print(e)\n",
    "\n",
    "conn.set_session(autocommit=True)"
   ]
  },
  {
   "cell_type": "code",
   "execution_count": null,
   "metadata": {},
   "outputs": [],
   "source": [
    "try:\n",
    "    cur = conn.cursor()\n",
    "except Exception as e:\n",
    "    print(\"Error: Could not obtain database cursor\")\n",
    "    print(e)"
   ]
  },
  {
   "cell_type": "code",
   "execution_count": null,
   "metadata": {},
   "outputs": [],
   "source": [
    "try:\n",
    "    cur.execute(\n",
    "        \"\"\"\n",
    "        create table if not exists users(\n",
    "            userid integer not null distkey sortkey,\n",
    "            username char(8),\n",
    "            firstname varchar(30),\n",
    "            lastname varchar(30),\n",
    "            city varchar(30),\n",
    "            state char(2),\n",
    "            email varchar(100),\n",
    "            phone char(14),\n",
    "            likesports boolean,\n",
    "            liketheatre boolean,\n",
    "            likeconcerts boolean,\n",
    "            likejazz boolean,\n",
    "            likeclassical boolean,\n",
    "            likeopera boolean,\n",
    "            likerock boolean,\n",
    "            likevegas boolean,\n",
    "            likebroadway boolean,\n",
    "            likemusicals boolean\n",
    "        );\n",
    "        \"\"\"\n",
    "    )\n",
    "except Exception as e:\n",
    "    print(\"Error: Could not create 'users' table\")\n",
    "    print(e)"
   ]
  },
  {
   "cell_type": "code",
   "execution_count": null,
   "metadata": {},
   "outputs": [],
   "source": [
    "try:\n",
    "    cur.execute(\n",
    "        \"\"\"\n",
    "        create table if not exists venue(\n",
    "            venueid smallint not null distkey sortkey,\n",
    "            venuename varchar(100),\n",
    "            venuecity varchar(30),\n",
    "            venuestate char(2),\n",
    "            venueseats integer\n",
    "        );\n",
    "        \"\"\"\n",
    "    )\n",
    "except Exception as e:\n",
    "    print(\"Error: Could not create 'venue' table\")\n",
    "    print(e)"
   ]
  },
  {
   "cell_type": "code",
   "execution_count": null,
   "metadata": {},
   "outputs": [],
   "source": [
    "try:\n",
    "    cur.execute(\n",
    "        \"\"\"\n",
    "        create table if not exists category(\n",
    "            catid smallint not null distkey sortkey,\n",
    "            catgroup varchar(10),\n",
    "            catname varchar(10),\n",
    "            catdesc varchar(50)\n",
    "        );\n",
    "\n",
    "        create table if not exists date(\n",
    "            dateid smallint not null distkey sortkey,\n",
    "            caldate date not null,\n",
    "            day character(3) not null,\n",
    "            week smallint not null,\n",
    "            month character(5) not null,\n",
    "            qr character(5) not null,\n",
    "            year smallint not null,\n",
    "            holiday boolean default('N')\n",
    "        );\n",
    "\n",
    "        create table if not exists event(\n",
    "            eventid integer not null distkey,\n",
    "            venueid smallint not null,\n",
    "            catid smallint not null,\n",
    "            dateid smallint not null sortkey,\n",
    "            eventname varchar(200),\n",
    "            starttime timestamp\n",
    "        );\n",
    "\n",
    "        create table if not exists listing(\n",
    "            listid integer not null distkey,\n",
    "            sellerid integer not null,\n",
    "            eventid integer not null,\n",
    "            dateid smallint not null sortkey,\n",
    "            numtickets smallint not null,\n",
    "            priceperticket decimal(8,2),\n",
    "            totalprice decimal(8,2),\n",
    "            listtime timestamp\n",
    "        );\n",
    "        \n",
    "        \"\"\"\n",
    "    )\n",
    "except Exception as e:\n",
    "    print(\"Error: Could not create 'venue' table\")\n",
    "    print(e)"
   ]
  },
  {
   "cell_type": "code",
   "execution_count": null,
   "metadata": {},
   "outputs": [],
   "source": [
    "try:\n",
    "    cur.execute(\n",
    "    \"\"\"\n",
    "    copy users \n",
    "    from 's3://redshift-tutorial-s3/allusers_pipe.txt'\n",
    "    credentials 'aws_iam_role=arn:aws:iam::211125552279:role/redshift-tutorial-s3-access-role'\n",
    "    delimiter '|'\n",
    "    region 'us-east-1'\n",
    "\n",
    "    \"\"\"\n",
    "    )\n",
    "except Exception as e:\n",
    "    print(\"Unable to copy 'users' data from s3 into redshift\")\n",
    "    print(e)"
   ]
  },
  {
   "cell_type": "code",
   "execution_count": null,
   "metadata": {},
   "outputs": [],
   "source": [
    "try:\n",
    "    cur.execute(\n",
    "    \"\"\"\n",
    "    select * from users;\n",
    "\n",
    "    \"\"\"\n",
    "    )\n",
    "except Exception as e:\n",
    "    print(\"Unable to select from 'users' table\")\n",
    "    print(e)\n"
   ]
  },
  {
   "cell_type": "code",
   "execution_count": null,
   "metadata": {},
   "outputs": [],
   "source": [
    "rows =cur.fetchmany(10)\n",
    "for row in rows:\n",
    "    print(row)\n"
   ]
  },
  {
   "cell_type": "code",
   "execution_count": null,
   "metadata": {},
   "outputs": [],
   "source": [
    "try:\n",
    "    conn.close()\n",
    "except psycopg2.Error as e:\n",
    "    print(e)\n",
    "\n",
    "redshift.delete_cluster(ClusterIdentifier=DWH_CLUSTER_IDENTIFIER, SkipFinalClusterSnapshot=True)\n"
   ]
  },
  {
   "cell_type": "code",
   "execution_count": null,
   "metadata": {},
   "outputs": [],
   "source": [
    "  "
   ]
  }
 ],
 "metadata": {
  "kernelspec": {
   "display_name": ".venv",
   "language": "python",
   "name": "python3"
  },
  "language_info": {
   "codemirror_mode": {
    "name": "ipython",
    "version": 3
   },
   "file_extension": ".py",
   "mimetype": "text/x-python",
   "name": "python",
   "nbconvert_exporter": "python",
   "pygments_lexer": "ipython3",
   "version": "3.10.12"
  }
 },
 "nbformat": 4,
 "nbformat_minor": 2
}
