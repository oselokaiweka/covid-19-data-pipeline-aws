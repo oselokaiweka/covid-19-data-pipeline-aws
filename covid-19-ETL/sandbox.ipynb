{
 "cells": [
  {
   "cell_type": "code",
   "execution_count": 42,
   "metadata": {},
   "outputs": [],
   "source": [
    "import pandas as pd\n",
    "import numpy as np"
   ]
  },
  {
   "cell_type": "code",
   "execution_count": 43,
   "metadata": {},
   "outputs": [],
   "source": [
    "sandbx = pd.read_csv('/workspaces/covid-19-data-pipeline-aws/covid-19-ETL/tmp/sandbox.csv')"
   ]
  },
  {
   "cell_type": "code",
   "execution_count": 40,
   "metadata": {},
   "outputs": [
    {
     "data": {
      "text/html": [
       "<div>\n",
       "<style scoped>\n",
       "    .dataframe tbody tr th:only-of-type {\n",
       "        vertical-align: middle;\n",
       "    }\n",
       "\n",
       "    .dataframe tbody tr th {\n",
       "        vertical-align: top;\n",
       "    }\n",
       "\n",
       "    .dataframe thead th {\n",
       "        text-align: right;\n",
       "    }\n",
       "</style>\n",
       "<table border=\"1\" class=\"dataframe\">\n",
       "  <thead>\n",
       "    <tr style=\"text-align: right;\">\n",
       "      <th></th>\n",
       "      <th>NUMERIC</th>\n",
       "      <th>DATE</th>\n",
       "      <th>STRING</th>\n",
       "      <th>FLOAT</th>\n",
       "    </tr>\n",
       "  </thead>\n",
       "  <tbody>\n",
       "    <tr>\n",
       "      <th>0</th>\n",
       "      <td>12</td>\n",
       "      <td>2024-11-04</td>\n",
       "      <td>AKANNA</td>\n",
       "      <td>55.8700</td>\n",
       "    </tr>\n",
       "    <tr>\n",
       "      <th>1</th>\n",
       "      <td>&lt;NA&gt;</td>\n",
       "      <td>2024-09-23</td>\n",
       "      <td>NZUBE</td>\n",
       "      <td>34.6600</td>\n",
       "    </tr>\n",
       "    <tr>\n",
       "      <th>2</th>\n",
       "      <td>6</td>\n",
       "      <td>2023-12-30</td>\n",
       "      <td>4</td>\n",
       "      <td>NaN</td>\n",
       "    </tr>\n",
       "    <tr>\n",
       "      <th>3</th>\n",
       "      <td>67</td>\n",
       "      <td>NaT</td>\n",
       "      <td>NETO</td>\n",
       "      <td>208.0090</td>\n",
       "    </tr>\n",
       "    <tr>\n",
       "      <th>4</th>\n",
       "      <td>4</td>\n",
       "      <td>2024-03-24</td>\n",
       "      <td>EBUBE</td>\n",
       "      <td>23.2334</td>\n",
       "    </tr>\n",
       "  </tbody>\n",
       "</table>\n",
       "</div>"
      ],
      "text/plain": [
       "   NUMERIC       DATE  STRING     FLOAT\n",
       "0       12 2024-11-04  AKANNA   55.8700\n",
       "1     <NA> 2024-09-23   NZUBE   34.6600\n",
       "2        6 2023-12-30       4       NaN\n",
       "3       67        NaT    NETO  208.0090\n",
       "4        4 2024-03-24   EBUBE   23.2334"
      ]
     },
     "execution_count": 40,
     "metadata": {},
     "output_type": "execute_result"
    }
   ],
   "source": [
    "sandbx.head(6)"
   ]
  },
  {
   "cell_type": "code",
   "execution_count": 38,
   "metadata": {},
   "outputs": [],
   "source": [
    "sandbx['NUMERIC'] = pd.to_numeric(sandbx['NUMERIC'], errors= 'coerce')\n",
    "sandbx['FLOAT'] = pd.to_numeric(sandbx['FLOAT'], errors= 'coerce')\n",
    "sandbx['DATE'] = pd.to_datetime(sandbx['DATE'], errors= 'coerce')\n"
   ]
  },
  {
   "cell_type": "code",
   "execution_count": 39,
   "metadata": {},
   "outputs": [
    {
     "data": {
      "text/html": [
       "<div>\n",
       "<style scoped>\n",
       "    .dataframe tbody tr th:only-of-type {\n",
       "        vertical-align: middle;\n",
       "    }\n",
       "\n",
       "    .dataframe tbody tr th {\n",
       "        vertical-align: top;\n",
       "    }\n",
       "\n",
       "    .dataframe thead th {\n",
       "        text-align: right;\n",
       "    }\n",
       "</style>\n",
       "<table border=\"1\" class=\"dataframe\">\n",
       "  <thead>\n",
       "    <tr style=\"text-align: right;\">\n",
       "      <th></th>\n",
       "      <th>NUMERIC</th>\n",
       "      <th>DATE</th>\n",
       "      <th>STRING</th>\n",
       "      <th>FLOAT</th>\n",
       "    </tr>\n",
       "  </thead>\n",
       "  <tbody>\n",
       "    <tr>\n",
       "      <th>0</th>\n",
       "      <td>12</td>\n",
       "      <td>2024-11-04</td>\n",
       "      <td>AKANNA</td>\n",
       "      <td>55.8700</td>\n",
       "    </tr>\n",
       "    <tr>\n",
       "      <th>1</th>\n",
       "      <td>&lt;NA&gt;</td>\n",
       "      <td>2024-09-23</td>\n",
       "      <td>NZUBE</td>\n",
       "      <td>34.6600</td>\n",
       "    </tr>\n",
       "    <tr>\n",
       "      <th>2</th>\n",
       "      <td>6</td>\n",
       "      <td>2023-12-30</td>\n",
       "      <td>4</td>\n",
       "      <td>NaN</td>\n",
       "    </tr>\n",
       "    <tr>\n",
       "      <th>3</th>\n",
       "      <td>67</td>\n",
       "      <td>NaT</td>\n",
       "      <td>NETO</td>\n",
       "      <td>208.0090</td>\n",
       "    </tr>\n",
       "    <tr>\n",
       "      <th>4</th>\n",
       "      <td>4</td>\n",
       "      <td>2024-03-24</td>\n",
       "      <td>EBUBE</td>\n",
       "      <td>23.2334</td>\n",
       "    </tr>\n",
       "  </tbody>\n",
       "</table>\n",
       "</div>"
      ],
      "text/plain": [
       "   NUMERIC       DATE  STRING     FLOAT\n",
       "0       12 2024-11-04  AKANNA   55.8700\n",
       "1     <NA> 2024-09-23   NZUBE   34.6600\n",
       "2        6 2023-12-30       4       NaN\n",
       "3       67        NaT    NETO  208.0090\n",
       "4        4 2024-03-24   EBUBE   23.2334"
      ]
     },
     "execution_count": 39,
     "metadata": {},
     "output_type": "execute_result"
    }
   ],
   "source": [
    "sandbx['NUMERIC'] = sandbx['NUMERIC'].astype('Int64')\n",
    "sandbx['FLOAT'] = sandbx['FLOAT'].astype(float)\n",
    "sandbx['DATE'] = sandbx['DATE'].astype('datetime64[ns]')\n",
    "sandbx.head(6)"
   ]
  },
  {
   "cell_type": "code",
   "execution_count": 41,
   "metadata": {},
   "outputs": [],
   "source": [
    "sandbx.to_csv('/workspaces/covid-19-data-pipeline-aws/covid-19-ETL/tmp/sandbox2.csv')"
   ]
  }
 ],
 "metadata": {
  "kernelspec": {
   "display_name": "Python 3",
   "language": "python",
   "name": "python3"
  },
  "language_info": {
   "codemirror_mode": {
    "name": "ipython",
    "version": 3
   },
   "file_extension": ".py",
   "mimetype": "text/x-python",
   "name": "python",
   "nbconvert_exporter": "python",
   "pygments_lexer": "ipython3",
   "version": "3.10.13"
  }
 },
 "nbformat": 4,
 "nbformat_minor": 2
}
