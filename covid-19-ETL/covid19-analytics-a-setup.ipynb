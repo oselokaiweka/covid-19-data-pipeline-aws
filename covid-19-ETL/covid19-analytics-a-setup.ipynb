{
 "cells": [
  {
   "cell_type": "code",
   "execution_count": null,
   "metadata": {},
   "outputs": [],
   "source": [
    "import boto3\n",
    "import configparser\n",
    "from io import StringIO\n",
    "from botocore.exceptions import ClientError"
   ]
  },
  {
   "cell_type": "code",
   "execution_count": null,
   "metadata": {},
   "outputs": [],
   "source": [
    "config = configparser.ConfigParser()\n",
    "config.read_file(open('covid19-analytics.config'))"
   ]
  },
  {
   "cell_type": "code",
   "execution_count": null,
   "metadata": {},
   "outputs": [],
   "source": [
    "KEY = config.get('AWS', 'KEY')\n",
    "SECRET = config.get('AWS', 'SECRET')\n",
    "\n",
    "SRC_S3 = config.get('S3', 'SRC_S3')\n",
    "SRC_BUCKETS = config.get('S3', 'SRC_BUCKETS')\n",
    "SRC_REGION = config.get('S3', 'SRC_REGION')\n",
    "\n",
    "TARGET_S3 = config.get('S3', 'TARGET_S3')\n",
    "TARGET_OUTPUT_S3 = config.get('S3', 'TARGET_OUTPUT_S3')\n",
    "TARGET_REGION = config.get('S3', 'TARGET_REGION')"
   ]
  },
  {
   "cell_type": "code",
   "execution_count": null,
   "metadata": {},
   "outputs": [],
   "source": [
    "# Initialize s3 client to access config file\n",
    "config_s3_client = boto3.client('s3') # Grant glue access with IAM role\n",
    "\n",
    "# Specify the s3 bucket and file path\n",
    "config_bucket_name = CONFIG_BUCKET_NAME # Configure in Glue Job parameters\n",
    "config_file_key = CONFIG_FILE_KEY # Configure in Glue Job parameters\n",
    "\n",
    "# Download the config file from s3\n",
    "config_obj = config_s3_client.get_object(Bucket=config_bucket_name, Key=config_file_key)\n",
    "config_data = config_obj['Body'].read().decode('utf-8')\n",
    "\n",
    "# Parse the config file\n",
    "config = configparser.ConfigParser()\n",
    "config.read_string(config_data)"
   ]
  },
  {
   "cell_type": "code",
   "execution_count": null,
   "metadata": {},
   "outputs": [],
   "source": [
    "# Access parameters stored in config file\n",
    "aws_key = config['AWS']['KEY'] # Consider removing and granting glue necessary permisions\n",
    "aws_secret = config['AWS']['SECRET'] # Consider removing and granting glue necessary permisions\n",
    "\n",
    "src_bucket_name = ['S3']['SRC_BUCKET_NAME'] # Public data source bucket name \n",
    "src_bucket_prefixes = ['S3']['SRC_BUCKET_PREFIXES'] # Source data in multiple prefixes (folders)\n",
    "src_bucket_region = ['S3']['SRC_BUCKET_REGION']\n",
    "\n",
    "job_bucket_name = ['S3']['JOB_BUCKET_NAME']\n",
    "job_bucket_prefix = ['S3']['JOB_BUCKET_PREFIX']\n",
    "job_bucket_region = ['S3']['JOB_BUCKET_REGION']"
   ]
  },
  {
   "cell_type": "code",
   "execution_count": null,
   "metadata": {},
   "outputs": [],
   "source": [
    "# Initialize s3 client to access source data s3 bucket\n",
    "src_s3_client = boto3.client('s3', region_name=src_bucket_region)\n",
    "\n",
    "# Initialize s3 client to create and/or access staging s3 bucket\n",
    "job_s3_client = boto3.client(\n",
    "    's3', \n",
    "    region_name=job_bucket_region,\n",
    "    aws_access_key_id=aws_key, \n",
    "    aws_secret_access_key=aws_secret\n",
    ")"
   ]
  },
  {
   "cell_type": "code",
   "execution_count": null,
   "metadata": {},
   "outputs": [],
   "source": [
    "# Method to create s3 bucket if it doesn't exist\n",
    "def create_s3_if_not_exists(bucket_name, bucket_region, s3_client):\n",
    "    try:\n",
    "        # Check if bucket exists\n",
    "        s3_client.head_bucket(Bucket=bucket_name)\n",
    "        print(f\"S3 bucket '{bucket_name}' already exists.\")\n",
    "        \n",
    "    except ClientError as e:\n",
    "        error_code = e.response['Error']['Code'] # Get error code\n",
    "        if error_code == '404': \n",
    "            # If error code is 404, bucket doesn't exist. Create bucket\n",
    "            s3_client.create_bucket(\n",
    "                Bucket=bucket_name,\n",
    "                CreateBucketConfiguration={\n",
    "                    'LocationConstraint': bucket_region\n",
    "                }\n",
    "            )\n",
    "            print(f\"S3 bucket '{bucket_name}' has been created.\")\n",
    "        else:\n",
    "            print(e)\n",
    "    except Exception as e:\n",
    "        print(e)"
   ]
  },
  {
   "cell_type": "code",
   "execution_count": null,
   "metadata": {},
   "outputs": [],
   "source": [
    "# Function downloads files from multiple bucket keys to another bucket using same source key names\n",
    "def copy_objects_from_s3_to_s3(src_bucket_name, src_bucket_prefixes, target_bucket_name, src_s3_client, target_s3_client):\n",
    "    # Source_bucket_keys is a set of source bucket keys stored in config file\n",
    "    src_bucket_prefixes = src_bucket_prefixes.split(',') # Convert to comma dilimited list\n",
    "    \n",
    "    # Iterate through the surce bucket list to download files within each bucket key\n",
    "    for src_bucket_prefix in src_bucket_prefixes:\n",
    "        src_bucket_prefix = src_bucket_prefix.strip() # Remove any white spaces\n",
    "        print(f\"\\nAccessing src_bucket_prefix: '{src_bucket_prefix}' >>>\")\n",
    "\n",
    "        # Use paginator to iterate over src_bucket contents\n",
    "        paginator = src_s3_client.get_paginator('list_objects_v2')\n",
    "        for page in paginator.paginate(Bucket=src_bucket_name, Prefix=src_bucket_prefix):\n",
    "            if 'Contents' in page:\n",
    "                for obj in page['Contents']:\n",
    "                    copy_source = {'Bucket': src_bucket_name, 'Key': obj['Key']}\n",
    "                    target_key = f\"raw_data/{obj['Key']}\" # creates a raw_data folder and puts downloaded file in it\n",
    "\n",
    "                    try:\n",
    "                        target_s3_client.head_object(Bucket=target_bucket_name, Key=target_key)\n",
    "                        # Skip to the next source bucket prefix if file already exists in the target bucket location\n",
    "                        print(f\"Skipping {target_key}, already exists\")\n",
    "                        continue \n",
    "\n",
    "                    except ClientError as e:\n",
    "                        if e.response['Error']['Code'] == '404': \n",
    "                            # Error code is 404 indicates file doesn't exist in target location, proceed to copy\n",
    "                            print(f\"Copying {obj['Key']} to {target_bucket_name}/{target_key}\")\n",
    "                            \n",
    "                            try:\n",
    "                                target_s3_client.copy_object(\n",
    "                                    CopySource=copy_source, \n",
    "                                    Bucket=target_bucket_name,\n",
    "                                    Key=target_key\n",
    "                                )\n",
    "                            except ClientError as e:\n",
    "                                print(f\"ClientError: {e}\")\n",
    "                            except Exception as e:\n",
    "                                print(f\"Exception: {e}\")\n",
    "            else:\n",
    "                print(f\"No content in '{src_bucket_prefix}'\\n\")"
   ]
  },
  {
   "cell_type": "code",
   "execution_count": null,
   "metadata": {},
   "outputs": [],
   "source": [
    "create_s3_if_not_exists(job_bucket_name, job_bucket_region, job_s3_client)"
   ]
  },
  {
   "cell_type": "code",
   "execution_count": null,
   "metadata": {},
   "outputs": [],
   "source": [
    "create_s3_if_not_exists(job_bucket_name, job_bucket_region, job_s3_client)"
   ]
  },
  {
   "cell_type": "code",
   "execution_count": null,
   "metadata": {},
   "outputs": [],
   "source": [
    "copy_objects_from_s3_to_s3(src_bucket_name, src_bucket_prefixes, job_bucket_name, src_s3_client, job_s3_client)"
   ]
  }
 ],
 "metadata": {
  "kernelspec": {
   "display_name": ".venv",
   "language": "python",
   "name": "python3"
  },
  "language_info": {
   "codemirror_mode": {
    "name": "ipython",
    "version": 3
   },
   "file_extension": ".py",
   "mimetype": "text/x-python",
   "name": "python",
   "nbconvert_exporter": "python",
   "pygments_lexer": "ipython3",
   "version": "3.10.12"
  }
 },
 "nbformat": 4,
 "nbformat_minor": 2
}
