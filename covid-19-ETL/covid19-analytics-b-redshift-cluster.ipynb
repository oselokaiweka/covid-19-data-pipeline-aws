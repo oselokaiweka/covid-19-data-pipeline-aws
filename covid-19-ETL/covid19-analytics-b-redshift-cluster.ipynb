{
 "cells": [
  {
   "cell_type": "code",
   "execution_count": null,
   "metadata": {},
   "outputs": [],
   "source": [
    "import boto3\n",
    "import pandas as pd\n",
    "import psycopg2\n",
    "import json"
   ]
  },
  {
   "cell_type": "code",
   "execution_count": null,
   "metadata": {},
   "outputs": [],
   "source": [
    "import configparser\n",
    "config = configparser.ConfigParser()\n",
    "config.read_file(open('covid19-analytics.config'))"
   ]
  },
  {
   "cell_type": "code",
   "execution_count": null,
   "metadata": {},
   "outputs": [],
   "source": [
    "KEY = config.get('AWS', 'KEY')\n",
    "SECRET = config.get('AWS', 'SECRET')\n",
    "\n",
    "\n",
    "DWH_CLUSTER_TYPE = config.get('DWH', 'DWH_CLUSTER_TYPE')\n",
    "DWH_NUM_NODES = config.get('DWH', 'DWH_NUM_NODES')\n",
    "DWH_NODE_TYPE = config.get('DWH', 'DWH_NODE_TYPE')\n",
    "DWH_CLUSTER_IDENTIFIER = config.get('DWH', 'DWH_CLUSTER_IDENTIFIER')\n",
    "DWH_DB = config.get('DWH', 'DWH_DB')\n",
    "DWH_DB_USER = config.get('DWH', 'DWH_DB_USER')\n",
    "DWH_DB_PASSWORD = config.get('DWH', 'DWH_DB_PASSWORD')\n",
    "DWH_PORT = config.get('DWH', 'DWH_PORT')\n",
    "DWH_IAM_ROLE_NAME = config.get('DWH', 'DWH_IAM_ROLE_NAME')\n",
    "\n",
    "TARGET_REGION = config.get('S3', 'TARGET_REGION')\n",
    "\n",
    "(DWH_DB_USER, DWH_DB_PASSWORD, DWH_DB)"
   ]
  },
  {
   "cell_type": "code",
   "execution_count": null,
   "metadata": {},
   "outputs": [],
   "source": [
    "pd.DataFrame(\n",
    "    {\n",
    "        'Param':\n",
    "            [\n",
    "                'DWH_CLUSTER_TYPE',\n",
    "                'DWH_NUM_NODES',\n",
    "                'DWH_NODE_TYPE',\n",
    "                'DWH_CLUSTER_IDENTIFIER',\n",
    "                'DWH_DB',\n",
    "                'DWH_DB_USER',\n",
    "                'DWH_DB_PASSWORD',\n",
    "                'DWH_PORT',\n",
    "                'DWH_IAM_ROLE_NAME'\n",
    "            ],\n",
    "        'Value':\n",
    "            [\n",
    "                DWH_CLUSTER_TYPE,\n",
    "                DWH_NUM_NODES,\n",
    "                DWH_NODE_TYPE,\n",
    "                DWH_CLUSTER_IDENTIFIER,\n",
    "                DWH_DB,\n",
    "                DWH_DB_USER,\n",
    "                DWH_DB_PASSWORD,\n",
    "                DWH_PORT,\n",
    "                DWH_IAM_ROLE_NAME\n",
    "\n",
    "            ]\n",
    "    }\n",
    ")"
   ]
  },
  {
   "cell_type": "code",
   "execution_count": null,
   "metadata": {},
   "outputs": [],
   "source": [
    "iam_client = boto3.client(\n",
    "                    'iam',\n",
    "                    region_name=TARGET_REGION,\n",
    "                    aws_access_key_id=KEY,\n",
    "                    aws_secret_access_key=SECRET\n",
    "                    )"
   ]
  },
  {
   "cell_type": "code",
   "execution_count": null,
   "metadata": {},
   "outputs": [],
   "source": [
    "redshift_client = boto3.client(\n",
    "                    'redshift',\n",
    "                    region_name=TARGET_REGION,\n",
    "                    aws_access_key_id=KEY,\n",
    "                    aws_secret_access_key=SECRET\n",
    "                    )"
   ]
  },
  {
   "cell_type": "code",
   "execution_count": null,
   "metadata": {},
   "outputs": [],
   "source": [
    "roleArn = iam_client.get_role(RoleName=DWH_IAM_ROLE_NAME)['Role']['Arn']\n",
    "roleArn"
   ]
  },
  {
   "cell_type": "code",
   "execution_count": null,
   "metadata": {},
   "outputs": [],
   "source": [
    "try:\n",
    "    response = redshift_client.create_cluster(\n",
    "        # see doc: https://boto3.amazonaws.com/v1/documentation/api/latest/reference/services/redshift/client/create_cluster.html\n",
    "        ClusterType=DWH_CLUSTER_TYPE,\n",
    "        NodeType=DWH_NODE_TYPE,\n",
    "\n",
    "        # Identifiers & Credentials\n",
    "        DBName=DWH_DB,\n",
    "        ClusterIdentifier=DWH_CLUSTER_IDENTIFIER,\n",
    "        MasterUsername=DWH_DB_USER,\n",
    "        MasterUserPassword=DWH_DB_PASSWORD,\n",
    "        Port=int(DWH_PORT),\n",
    "        NumberOfNodes=int(DWH_NUM_NODES),\n",
    "        Tags=[\n",
    "            {'Key': 'ENVIRONMENT','Value': 'DEV'},\n",
    "        ],\n",
    "\n",
    "        # Roles (s3 access role)\n",
    "        IamRoles=[roleArn],\n",
    "\n",
    "        # Other settings\n",
    "        MultiAZ=False,\n",
    "    )\n",
    "except Exception as e:\n",
    "    print(e)"
   ]
  },
  {
   "cell_type": "code",
   "execution_count": null,
   "metadata": {},
   "outputs": [],
   "source": [
    "# redshift_client.delete_cluster(ClusterIdentifier=DWH_CLUSTER_IDENTIFIER, SkipFinalClusterSnapshot=True)\n"
   ]
  }
 ],
 "metadata": {
  "kernelspec": {
   "display_name": ".venv",
   "language": "python",
   "name": "python3"
  },
  "language_info": {
   "codemirror_mode": {
    "name": "ipython",
    "version": 3
   },
   "file_extension": ".py",
   "mimetype": "text/x-python",
   "name": "python",
   "nbconvert_exporter": "python",
   "pygments_lexer": "ipython3",
   "version": "3.10.13"
  }
 },
 "nbformat": 4,
 "nbformat_minor": 2
}
