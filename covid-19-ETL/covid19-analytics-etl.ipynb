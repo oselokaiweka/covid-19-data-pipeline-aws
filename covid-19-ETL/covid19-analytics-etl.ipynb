{
 "cells": [
  {
   "cell_type": "code",
   "execution_count": null,
   "metadata": {},
   "outputs": [],
   "source": [
    "import boto3 \n",
    "from botocore.exceptions import ClientError\n",
    "import time\n",
    "import pandas as pd\n",
    "import configparser\n",
    "from pathlib import Path\n",
    "from io import StringIO"
   ]
  },
  {
   "cell_type": "code",
   "execution_count": null,
   "metadata": {},
   "outputs": [],
   "source": [
    "config = configparser.ConfigParser()\n",
    "config.read_file(open('covid19-analytics.config'))\n",
    "\n",
    "KEY = config.get('AWS', 'KEY')\n",
    "SECRET = config.get('AWS', 'SECRET')\n",
    "TARGET_S3 = config.get('S3', 'TARGET_S3')\n",
    "TARGET_OUTPUT_S3 = config.get('S3', 'TARGET_OUTPUT_S3')\n",
    "TARGET_OUTPUT_BUCKET=config.get('S3', 'TARGET_OUTPUT_BUCKET')\n",
    "TARGET_OUTPUT_DIR=config.get('S3', 'TARGET_OUTPUT_DIR')\n",
    "TARGET_REGION = config.get('S3', 'TARGET_REGION')\n",
    "SCHEMA_NAME = config.get('GLUE', 'SCHEMA_NAME')\n",
    "TMP_DIR = config.get('FILE_PATHS', 'TMP_DIR')"
   ]
  },
  {
   "cell_type": "code",
   "execution_count": null,
   "metadata": {},
   "outputs": [],
   "source": [
    "OUTPUT_S3_CLIENT = boto3.client(\n",
    "    's3', \n",
    "    region_name=TARGET_REGION,\n",
    "    aws_access_key_id=KEY, \n",
    "    aws_secret_access_key=SECRET\n",
    ")\n",
    "\n",
    "GLUE_CLIENT = boto3.client(\n",
    "    'glue', \n",
    "    aws_access_key_id=KEY,\n",
    "    aws_secret_access_key=SECRET,\n",
    "    region_name=TARGET_REGION\n",
    ")\n",
    "\n",
    "ATHENA_CLIENT = boto3.client(\n",
    "    'athena',\n",
    "    aws_access_key_id=KEY,\n",
    "    aws_secret_access_key=SECRET,\n",
    "    region_name=TARGET_REGION,\n",
    ")"
   ]
  },
  {
   "cell_type": "code",
   "execution_count": null,
   "metadata": {},
   "outputs": [],
   "source": [
    "def list_athena_tables(client, database_name) -> list:\n",
    "    tables = []\n",
    "    paginator = client.get_paginator('get_tables')\n",
    "\n",
    "    # Use paginator to handle potentially large number of tables\n",
    "    for page in paginator.paginate(DatabaseName=database_name):\n",
    "        for table in page['TableList']:\n",
    "            tables.append(table['Name'])\n",
    "            \n",
    "    return tables"
   ]
  },
  {
   "cell_type": "code",
   "execution_count": null,
   "metadata": {},
   "outputs": [],
   "source": [
    "# Function to execute athenaa query and retrieve data in all tables\n",
    "def query_athena_and_fetch_results(\n",
    "        athena_client,\n",
    "        s3_client, \n",
    "        database, \n",
    "        query,\n",
    "        table,\n",
    "        output_s3,\n",
    "        output_dir,\n",
    "        output_location,\n",
    "        tmp_dir):\n",
    "    \n",
    "    response = athena_client.start_query_execution(\n",
    "        QueryString=query,\n",
    "        QueryExecutionContext={'Database': database},\n",
    "        ResultConfiguration={\n",
    "            'OutputLocation': output_location,\n",
    "            'EncryptionConfiguration': {'EncryptionOption': 'SSE_S3'},\n",
    "        }\n",
    "    )\n",
    "    query_execution_id = response['QueryExecutionId']\n",
    "\n",
    "    # Loop till query execution is complete\n",
    "    while True:\n",
    "        try:\n",
    "            response = athena_client.get_query_execution(QueryExecutionId=query_execution_id)\n",
    "        except ClientError as e:\n",
    "            print(f\"\\nQuery Error: \\n{e}\")\n",
    "            \n",
    "        state = response['QueryExecution']['Status']['State']\n",
    "        if state == 'SUCCEEDED':\n",
    "            print(f\"\\n{query_execution_id} query has completed successfuly\")\n",
    "\n",
    "            results_path = f'{output_dir}/{query_execution_id}.csv'\n",
    "            local_filename = f'{tmp_dir}/{table}.csv'\n",
    "\n",
    "            if Path(local_filename).exists():\n",
    "                print(f\"{local_filename} already exists, skip download\")\n",
    "            else:\n",
    "                try:\n",
    "                    s3_client.download_file(output_s3, results_path, local_filename)\n",
    "                    print(f\"\\n{local_filename} downloaded successfuly\")\n",
    "                except ClientError as e:\n",
    "                    print(f\"Download Error: \\n{e}\")\n",
    "                    \n",
    "            try:\n",
    "                s3_client.delete_objects(Bucket=output_s3, Delete={'Objects': [{'Key': results_path}, {'Key': f'{results_path}.metadata'}], 'Quiet': True})\n",
    "            except ClientError as e:\n",
    "                print(f\"S3 cleanup Error: \\n{e}\")\n",
    "\n",
    "            return\n",
    "        \n",
    "        elif state in ['FAILED', 'CANCELLED']:\n",
    "            raise Exception(f\"Query {state.lower()} with reason: {response['QueryExecution']['Status']['StateChangeReason']}\")\n",
    "        else:\n",
    "            print(f\"/n{query_execution_id} query is still running, waiting 3 seconds...\")\n",
    "            time.sleep(3)"
   ]
  },
  {
   "cell_type": "code",
   "execution_count": null,
   "metadata": {},
   "outputs": [],
   "source": [
    "tables = list_athena_tables(GLUE_CLIENT, SCHEMA_NAME)"
   ]
  },
  {
   "cell_type": "code",
   "execution_count": null,
   "metadata": {},
   "outputs": [],
   "source": [
    "for TABLE in tables:\n",
    "    QUERY = f'SELECT * FROM \"{TABLE}\";'\n",
    "    try:\n",
    "        query_athena_and_fetch_results(\n",
    "            athena_client=ATHENA_CLIENT,\n",
    "            s3_client=OUTPUT_S3_CLIENT, \n",
    "            database=SCHEMA_NAME,  \n",
    "            query=QUERY,\n",
    "            table=TABLE,\n",
    "            output_s3=TARGET_OUTPUT_S3,\n",
    "            output_dir=TARGET_OUTPUT_DIR,\n",
    "            output_location=TARGET_OUTPUT_BUCKET,\n",
    "            tmp_dir=TMP_DIR\n",
    "        )\n",
    "    except Exception as e:\n",
    "        print(f\"Failed to download csv for table {TABLE}: {str(e)}\")"
   ]
  },
  {
   "cell_type": "code",
   "execution_count": null,
   "metadata": {},
   "outputs": [],
   "source": [
    "# iterate through the tmp folder\n",
    "from pathlib import Path\n",
    "\n",
    "dataframes = {}\n",
    "\n",
    "for table in tables:\n",
    "    for file in Path(TMP_DIR).iterdir():\n",
    "        if table in file.name:\n",
    "            dataframes[f'{table}_df'] = pd.read_csv(file)\n",
    "            print(f\"\\nLoaded {file} into {table}_df dataframe\") \n"
   ]
  },
  {
   "cell_type": "code",
   "execution_count": null,
   "metadata": {},
   "outputs": [],
   "source": []
  }
 ],
 "metadata": {
  "kernelspec": {
   "display_name": ".venv",
   "language": "python",
   "name": "python3"
  },
  "language_info": {
   "codemirror_mode": {
    "name": "ipython",
    "version": 3
   },
   "file_extension": ".py",
   "mimetype": "text/x-python",
   "name": "python",
   "nbconvert_exporter": "python",
   "pygments_lexer": "ipython3",
   "version": "3.10.12"
  }
 },
 "nbformat": 4,
 "nbformat_minor": 2
}
